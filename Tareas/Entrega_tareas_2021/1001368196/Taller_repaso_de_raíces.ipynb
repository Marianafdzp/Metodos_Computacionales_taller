{
  "nbformat": 4,
  "nbformat_minor": 0,
  "metadata": {
    "colab": {
      "name": "Taller repaso de raíces",
      "provenance": [],
      "collapsed_sections": []
    },
    "kernelspec": {
      "name": "python3",
      "display_name": "Python 3"
    },
    "language_info": {
      "name": "python"
    }
  },
  "cells": [
    {
      "cell_type": "markdown",
      "metadata": {
        "id": "iMtlmOQm42xm"
      },
      "source": [
        "# Problemas \n",
        "\n",
        "#1. Area \n",
        "Hallar el área de un segmento circular cuya area sea igual a una cuarta parte del área del circulo. Para la solución se sugiere lo siguiente:\n",
        "\n",
        "a) Encontrar la ecuacion trascendental.\n",
        "\n",
        "b) Con la ecuación anterior, definir una funcion $f(\\theta)=0$. Emplee la funcion labmda de python.\n",
        "\n",
        "c) Construir una data frame de pandas con la columna \"theta\" con 1000 registros(filas) entre $[-2\\pi, 2\\pi]$. Sugerencia, para construir el data frame emplee la función linspace como sigue : np.linspace(-2*np.pi, 2*np.pi, 1000 )\n",
        "\n",
        "d) Construir una segunda columna titulada \"F_theta\" con los registros f(theta)\n",
        "\n",
        "f) Realice un gráfico de  \"F_theta\" vs \"theta\". Identifique el intervalo de la raiz.\n",
        "\n",
        "Estime el valor del ángulo empleando los siguientes metodos(Emplee  la documentacion):\n",
        "\n",
        "g) [Bisección](https://docs.scipy.org/doc/scipy/reference/generated/scipy.optimize.bisect.html)\n",
        "\n",
        "h) [Newton-Rapshon](https://docs.scipy.org/doc/scipy/reference/generated/scipy.optimize.newton.html)\n",
        "\n",
        "i) [Secante](https://docs.scipy.org/doc/scipy/reference/generated/scipy.optimize.newton.html) \n",
        "\n",
        "j) [Punto Fijo](https://docs.scipy.org/doc/scipy/reference/generated/scipy.optimize.fixed_point.html)\n",
        "\n",
        "\n"
      ]
    },
    {
      "cell_type": "code",
      "metadata": {
        "id": "-8rIqS14X_ZJ"
      },
      "source": [
        ""
      ],
      "execution_count": 1,
      "outputs": []
    },
    {
      "cell_type": "markdown",
      "metadata": {
        "id": "-3-NoHtlVqXJ"
      },
      "source": [
        "**A)** Encontrar la ecuación trascendental\n",
        "\n",
        "El área del cono a considerar es:\n",
        "\\begin{equation}\n",
        "A1= \\frac{R^2\\theta}{2} \n",
        "\\end{equation}\n",
        "\n",
        "El área del triangulo está dada por:\n",
        "\n",
        "\\begin{equation}\n",
        "A2= (sin\\frac{\\theta}{2})(cos\\frac{\\theta}{2}) R^2\n",
        "\\end{equation}\n",
        "\n",
        "Por lo tanto el área de la región circular es:\n",
        "\n",
        "\\begin{equation}A=\\frac{R^2\\theta}{2} - (sin\\frac{\\theta}{2})(cos\\frac{\\theta}{2}) R^2\n",
        "\\end{equation}\n",
        "\n",
        "Como el area del segmento circular debe ser igual a la cuarta parte del área de un círculo\n",
        "\n",
        "\\begin{equation}\\frac{\\pi R^2}{4}=\\frac{R^2\\theta}{2} - (sin\\frac{\\theta}{2})(cos\\frac{\\theta}{2}) R^2\n",
        "\\end{equation}\n",
        "\n",
        "\n",
        "\\begin{equation}\\frac{\\pi}{2}= \\theta- 2(sin\\frac{\\theta}{2})(cos\\frac{\\theta}{2})\n",
        "\\end{equation}\n",
        "\n",
        "De la identidad trigonométrica:\n",
        "\n",
        "\\begin{equation} sin\\theta=2(sin\\frac{\\theta}{2})(cos\\frac{\\theta}{2})\\end{equation}\n",
        "\n",
        "\n",
        "\n",
        "\n",
        "\n",
        "\n",
        "\n",
        "Por tanto, la ecuacion que modela el problema es:\n",
        "\n",
        "\\begin{equation}\\frac{\\pi}{2} =\\theta-sin\\theta\n",
        "\\end{equation}\n",
        "\n",
        "\n",
        "\n",
        "\n",
        "\n",
        "\n",
        "\n"
      ]
    },
    {
      "cell_type": "markdown",
      "metadata": {
        "id": "QwEt9mIUZzbZ"
      },
      "source": [
        "**B.** Encontrar el valor de \\begin{equation} \\theta\n",
        "\\end{equation} que satisface la ecuación es equivalente a encontrar las raíces de la función:\n",
        "\n",
        "\\begin{equation}f(\\theta)=\\theta-sin\\theta-\\frac{\\pi}{2} \n",
        "\\end{equation}\n"
      ]
    },
    {
      "cell_type": "code",
      "metadata": {
        "id": "eULpRO_XVpkq"
      },
      "source": [
        "#Librerías\n",
        "import numpy as np\n",
        "import pandas as pd\n",
        "import matplotlib.pylab as plt\n",
        "from scipy import optimize"
      ],
      "execution_count": 2,
      "outputs": []
    },
    {
      "cell_type": "code",
      "metadata": {
        "id": "1rBnaTtP43Zj"
      },
      "source": [
        "#Función que modela el problema\n",
        "\n",
        "f = lambda theta: theta-np.sin(theta)-np.pi/2\n"
      ],
      "execution_count": 3,
      "outputs": []
    },
    {
      "cell_type": "markdown",
      "metadata": {
        "id": "aq5v-JBdasXK"
      },
      "source": [
        "**c)** Construir una data frame de pandas con la columna \"theta\" con 1000 registros(filas) entre  [−2π,2π] . Sugerencia, para construir el data frame emplee la función linspace como sigue : np.linspace(-2np.pi, 2np.pi, 1000 )"
      ]
    },
    {
      "cell_type": "code",
      "metadata": {
        "id": "9nTfnfmjaw2p"
      },
      "source": [
        "# Se construye un DataFrame con valores de Theta\n",
        "theta=np.linspace(-2*(np.pi),2*(np.pi),1000) "
      ],
      "execution_count": null,
      "outputs": []
    },
    {
      "cell_type": "markdown",
      "metadata": {
        "id": "GXdROdS5aiDS"
      },
      "source": [
        "**d)** Construir una segunda columna titulada \"F_theta\" con los registros f(theta)"
      ]
    },
    {
      "cell_type": "code",
      "metadata": {
        "id": "wmKZFRhTEMzs",
        "colab": {
          "base_uri": "https://localhost:8080/",
          "height": 419
        },
        "outputId": "b7448476-5926-41e6-c93a-814f08ca3a0b"
      },
      "source": [
        "# Se construye una segunda columna con los registros f(theta)\n",
        "df = pd.DataFrame() \n",
        "df[\"theta\"] = theta\n",
        "df[\"F_theta\"] = f(theta)\n",
        "df"
      ],
      "execution_count": 9,
      "outputs": [
        {
          "output_type": "execute_result",
          "data": {
            "text/html": [
              "<div>\n",
              "<style scoped>\n",
              "    .dataframe tbody tr th:only-of-type {\n",
              "        vertical-align: middle;\n",
              "    }\n",
              "\n",
              "    .dataframe tbody tr th {\n",
              "        vertical-align: top;\n",
              "    }\n",
              "\n",
              "    .dataframe thead th {\n",
              "        text-align: right;\n",
              "    }\n",
              "</style>\n",
              "<table border=\"1\" class=\"dataframe\">\n",
              "  <thead>\n",
              "    <tr style=\"text-align: right;\">\n",
              "      <th></th>\n",
              "      <th>theta</th>\n",
              "      <th>F_theta</th>\n",
              "    </tr>\n",
              "  </thead>\n",
              "  <tbody>\n",
              "    <tr>\n",
              "      <th>0</th>\n",
              "      <td>-6.283185</td>\n",
              "      <td>-7.853982</td>\n",
              "    </tr>\n",
              "    <tr>\n",
              "      <th>1</th>\n",
              "      <td>-6.270606</td>\n",
              "      <td>-7.853981</td>\n",
              "    </tr>\n",
              "    <tr>\n",
              "      <th>2</th>\n",
              "      <td>-6.258027</td>\n",
              "      <td>-7.853979</td>\n",
              "    </tr>\n",
              "    <tr>\n",
              "      <th>3</th>\n",
              "      <td>-6.245448</td>\n",
              "      <td>-7.853973</td>\n",
              "    </tr>\n",
              "    <tr>\n",
              "      <th>4</th>\n",
              "      <td>-6.232870</td>\n",
              "      <td>-7.853960</td>\n",
              "    </tr>\n",
              "    <tr>\n",
              "      <th>...</th>\n",
              "      <td>...</td>\n",
              "      <td>...</td>\n",
              "    </tr>\n",
              "    <tr>\n",
              "      <th>995</th>\n",
              "      <td>6.232870</td>\n",
              "      <td>4.712368</td>\n",
              "    </tr>\n",
              "    <tr>\n",
              "      <th>996</th>\n",
              "      <td>6.245448</td>\n",
              "      <td>4.712380</td>\n",
              "    </tr>\n",
              "    <tr>\n",
              "      <th>997</th>\n",
              "      <td>6.258027</td>\n",
              "      <td>4.712386</td>\n",
              "    </tr>\n",
              "    <tr>\n",
              "      <th>998</th>\n",
              "      <td>6.270606</td>\n",
              "      <td>4.712389</td>\n",
              "    </tr>\n",
              "    <tr>\n",
              "      <th>999</th>\n",
              "      <td>6.283185</td>\n",
              "      <td>4.712389</td>\n",
              "    </tr>\n",
              "  </tbody>\n",
              "</table>\n",
              "<p>1000 rows × 2 columns</p>\n",
              "</div>"
            ],
            "text/plain": [
              "        theta   F_theta\n",
              "0   -6.283185 -7.853982\n",
              "1   -6.270606 -7.853981\n",
              "2   -6.258027 -7.853979\n",
              "3   -6.245448 -7.853973\n",
              "4   -6.232870 -7.853960\n",
              "..        ...       ...\n",
              "995  6.232870  4.712368\n",
              "996  6.245448  4.712380\n",
              "997  6.258027  4.712386\n",
              "998  6.270606  4.712389\n",
              "999  6.283185  4.712389\n",
              "\n",
              "[1000 rows x 2 columns]"
            ]
          },
          "metadata": {},
          "execution_count": 9
        }
      ]
    },
    {
      "cell_type": "markdown",
      "metadata": {
        "id": "qIcCogIVbGon"
      },
      "source": [
        "**f)** Realice un gráfico de \"F_theta\" vs \"theta\". Identifique el intervalo de la raiz."
      ]
    },
    {
      "cell_type": "code",
      "metadata": {
        "colab": {
          "base_uri": "https://localhost:8080/",
          "height": 297
        },
        "id": "Fq7AcPlQ2ayc",
        "outputId": "f29fb473-491d-4fea-ad00-a4c5d6b98845"
      },
      "source": [
        "#Gráfico \n",
        "plt.figure()\n",
        "plt.plot(df[\"theta\"], df[\"F_theta\"] )\n",
        "plt.title('F_thete vs theta')\n",
        "plt.xlabel(\"$\\\\theta$\")\n",
        "plt.ylabel(\"$f(\\\\theta)$\")\n",
        "plt.plot(theta,theta)\n",
        "plt.grid()\n",
        "plt.show()"
      ],
      "execution_count": 10,
      "outputs": [
        {
          "output_type": "display_data",
          "data": {
            "image/png": "[encoded data removed]",
            "text/plain": [
              "<Figure size 432x288 with 1 Axes>"
            ]
          },
          "metadata": {
            "needs_background": "light"
          }
        }
      ]
    },
    {
      "cell_type": "markdown",
      "metadata": {
        "id": "q0QORGrlb0BG"
      },
      "source": [
        "Estime el valor del ángulo empleando los siguientes metodos(Emplee la documentacion):"
      ]
    },
    {
      "cell_type": "code",
      "metadata": {
        "colab": {
          "base_uri": "https://localhost:8080/"
        },
        "id": "kWI0MCEz2ib6",
        "outputId": "9ee8c9cd-334a-481c-bf82-dd53b5dfce74"
      },
      "source": [
        "#Método de bisección\n",
        "root = optimize.bisect(f, 0, 4)\n",
        "print(\"EL ángulo es:\", root )"
      ],
      "execution_count": 36,
      "outputs": [
        {
          "output_type": "stream",
          "text": [
            "EL ángulo es: 2.309881460010729\n"
          ],
          "name": "stdout"
        }
      ]
    },
    {
      "cell_type": "code",
      "metadata": {
        "id": "5ec3bCKk7ut5"
      },
      "source": [
        "#Método de la secante\n",
        "optimize.newton(f,2, fprime=None, args=(), tol=1.48e-08, maxiter=50, fprime2=None, x1=None, rtol=0.0, full_output=False, disp=True)"
      ],
      "execution_count": null,
      "outputs": []
    },
    {
      "cell_type": "code",
      "metadata": {
        "id": "CXv6zKcLTSSM"
      },
      "source": [
        "#Método de Newton Rapshon\n",
        "df= lambda theta: 1-np.cos(theta)\n",
        "optimize.newton(f,2, df, args=(), tol=1.48e-08, maxiter=1000, fprime2=None, x1=None, rtol=0.0, full_output=False, disp=True)"
      ],
      "execution_count": null,
      "outputs": []
    },
    {
      "cell_type": "markdown",
      "metadata": {
        "id": "IILLmt8rI8-9"
      },
      "source": [
        "Para emplear el método de punto fijo creamos una función\n",
        "\n",
        "\\begin{equation}g(\\theta)=\\theta+f(\\theta)\n",
        "\\end{equation}\n",
        "\n",
        "\n",
        "Sea $$\\theta1$$ una raiz de f, entoces tenemos que \n",
        "\n",
        "\\begin{equation}g(\\theta1)=\\theta1+f(\\theta1)\n",
        "\\end{equation}\n",
        "\n",
        "\\begin{equation}g(\\theta1)=\\theta1\n",
        "\\end{equation}\n",
        "\n",
        "\n",
        "\n",
        "\n",
        "\n"
      ]
    },
    {
      "cell_type": "code",
      "metadata": {
        "colab": {
          "base_uri": "https://localhost:8080/",
          "height": 265
        },
        "id": "gGsymZYYCiUM",
        "outputId": "344ac023-ce9f-42bd-ab09-bf66ea491a73"
      },
      "source": [
        "# Punto Fijo\n",
        "g=lambda theta: 2*theta-np.sin(theta)-np.pi/2 \n",
        "\n",
        "plt.plot(theta,g(theta))\n",
        "plt.plot(theta,theta)\n",
        "plt.grid()\n"
      ],
      "execution_count": 11,
      "outputs": [
        {
          "output_type": "display_data",
          "data": {
            "image/png": "[encoded data removed]",
            "text/plain": [
              "<Figure size 432x288 with 1 Axes>"
            ]
          },
          "metadata": {
            "needs_background": "light"
          }
        }
      ]
    },
    {
      "cell_type": "code",
      "metadata": {
        "colab": {
          "base_uri": "https://localhost:8080/"
        },
        "id": "iBqONOR9GnRp",
        "outputId": "d69568cb-229e-4407-993d-05d90a7448da"
      },
      "source": [
        "#De la gráfica podemos observar que 2 es un punto aproximado a la raíz buscada\n",
        "\n",
        "optimize.fixed_point(g,2, args=(), xtol=1e-08, maxiter=100, method='del2')"
      ],
      "execution_count": 12,
      "outputs": [
        {
          "output_type": "execute_result",
          "data": {
            "text/plain": [
              "array(2.30988146)"
            ]
          },
          "metadata": {},
          "execution_count": 12
        }
      ]
    },
    {
      "cell_type": "markdown",
      "metadata": {
        "id": "AqZSU8CE46S9"
      },
      "source": [
        "\n",
        "\n",
        "\n",
        "# 2. Movimiento de proyectiles en presencia de viento.\n",
        "\n",
        "Supongamos que un proyectil es lanzado desde el origen con una rapidez $v=vo( \\cos \\theta , \\sin \\theta $. Supongamos además que el efecto del viento sobre el proyectil es el de una fuerza proporcional a la velocidad relativa entre el viento y el proyectil. Teniendo presente que si u es la velocidad del viento y $\\alpha$ el ángulo que hace dirección de esta velocidad con el eje x, se puede entrontrar las siguientes ecuaciones diferenciales, asociada al estado de movimiento del [proyectil](https://iopscience.iop.org/article/10.1088/0143-0807/36/2/025016/meta):\n",
        "\n",
        "\n",
        "\\begin{equation}\n",
        "m\\frac{dv_x}{dt} = -mb(v_x-u\\cos \\alpha )\n",
        "\\end{equation}\n",
        "\n",
        "\\begin{equation}\n",
        "m\\frac{dv_y}{dt} = -mg-mb(v_x-u\\sin \\alpha ),\n",
        "\\end{equation}\n",
        "\n",
        "donde b es el párametro de rozamiento. La soluciones a las ecuaciones anteriores vienen dadas por:\n",
        "\n",
        "Posición en x\n",
        "\\begin{equation}\n",
        "x=(u\\cos \\alpha) t + \\frac{1}{b} (v_0\\cos \\theta_0 -u \\cos\\alpha)(1-\\mathrm{exp}(-bt))\n",
        "\\end{equation}\n",
        "\n",
        "Posicion en y \n",
        "\\begin{equation}\n",
        "y= \\frac{1}{b}\\left(\\frac{g}{b}+v_0 \\sin \\theta_0 -u\\sin\\alpha \\right)(1-\\mathrm{exp}(-bt))-\\left( \\frac{g}{b}-u\\sin\\alpha\\right)t\n",
        "\\end{equation}\n",
        "\n",
        "Ver imagen:  http://www.sc.ehu.es/sbweb/fisica3/fluidos/viento/parabolico.html\n",
        "\n",
        "\n",
        "```\n",
        "\n",
        "\n",
        "\n",
        "1. Defina dos funciones, una para x y otra para y. \n",
        "\n",
        "```\n",
        "\n",
        "#Posicion en x\n",
        "def pos_x(t, theta, alpha, v0, b, u,g):\n",
        "  x = #escriba aca la expresión\n",
        "  return x\n",
        "\n",
        "#Posicion en y\n",
        "def pos_y(t, theta, alpha, v0, b, u,g):\n",
        "\n",
        "\n",
        "  y = #escriba aca la expresión\n",
        "  return y \n",
        "\n",
        "```\n",
        "\n",
        "2. Construya un diccionario con las claves \"X\", \"Y\", \"Tiempo\"\n",
        "\n",
        "3. Con el diccionario construya un data frame de pandas llamado df con los nombres de columnas \"X\", \"Y\", \"Tiempo\"  https://pandas.pydata.org/docs/reference/api/pandas.DataFrame.from_dict.html. Defina 1000 regitros para el intervalo de tiempo elegido.\n",
        "\n",
        "\n",
        "4. Realice un gráfico de x como función del tiempo, de y como función del tiempo y la trayectoria de la partícula (df[\"X\"], df[\"tiempo\"], df[\"Y\"]).\n",
        "\n",
        "\n",
        "5. Determine el alcance máximo de la partícula, para ello tome  la solucion teórica con $y=0$, solucione numéricamente la ecuación para t y remplace este valor en la ecuación para x. Resuelvalo para $\\theta=45^{o}$.  \n",
        "\n",
        "6. Construya una  grafica del alcance máximo R como función de $\\theta$, varie $\\theta$  entre 10 y 80 grados cada 5 grados.\n",
        "\n",
        "7. Realice una interpolacion de R como función de theta.\n",
        "\n",
        "\n",
        "\n",
        "\n",
        "\n",
        "\n",
        "\n"
      ]
    },
    {
      "cell_type": "code",
      "metadata": {
        "id": "Ns71g94a2mER"
      },
      "source": [
        "#Datos dados\n",
        "v0 = 60                    #Velocidad en m/s\n",
        "alpha = np.pi              #Angulo del viento\n",
        "theta = np.deg2rad(45)    \n",
        "u =0                 #rapidez del viento\n",
        "b = 0.05                   #Parametro de friccion \n",
        "g = 9.8                    #Aceleracion de la gravedad m/s2\n",
        "\n",
        "Params = (alpha, v0, b, u, g)  #Parametros en tupla. #Angulo de lanzamiento\n"
      ],
      "execution_count": 16,
      "outputs": []
    },
    {
      "cell_type": "markdown",
      "metadata": {
        "id": "bSj3gs6Rc5Cu"
      },
      "source": [
        "**1.** Defina dos funciones, una para x y otra para y. "
      ]
    },
    {
      "cell_type": "code",
      "metadata": {
        "id": "HEEtRuug464L"
      },
      "source": [
        "#Funciones para las posiciones en x e y\n",
        "\n",
        "#Posici+on en x\n",
        "def pos_x(t, theta, alpha, v0, b, u, g):\n",
        "  T1 = u * t * np.cos(alpha)                              #Término 1\n",
        "  T2 = (1./b)*(v0*np.cos(theta) - u*np.cos(alpha) )        #Término 2\n",
        "  T3 = (1 - np.e**(-b*t))                                   #Término 3\n",
        "\n",
        "  return T1 + T2*T3 \n",
        "    \n",
        "\n",
        "#Posición en y\n",
        "def pos_y(t, theta, alpha, v0, b, u,g):\n",
        "\n",
        "  T1 = (1./b)*(g/b + v0*np.sin(theta) - u*np.sin(alpha) ) #término 1\n",
        "  T2 = (1 - np.e**(- b * t)) #término 2\n",
        "  T3 = (g / b - u *  np.sin(alpha))*t #término 3\n",
        "\n",
        "  return T1* T2 - T3"
      ],
      "execution_count": 17,
      "outputs": []
    },
    {
      "cell_type": "markdown",
      "metadata": {
        "id": "-cFGn3xMc936"
      },
      "source": [
        "**2.** Construya un diccionario con las claves \"X\", \"Y\", \"Tiempo\""
      ]
    },
    {
      "cell_type": "code",
      "metadata": {
        "id": "YbGxwxtf3ngv"
      },
      "source": [
        "#Construcción de diccionario con las  claver 'X', 'Y' y 'TIEMPO'\n",
        "\n",
        "t = np.linspace(0, 20, 100)      # Tiempo \n",
        "x = pos_x(t, theta, *Params)\n",
        "y = pos_y(t, theta, *Params) \n",
        "mov = { \"X\": x , \"Y\": y, \"Tiempo\": t }  # diccionario\n",
        "\n"
      ],
      "execution_count": 19,
      "outputs": []
    },
    {
      "cell_type": "markdown",
      "metadata": {
        "id": "aNeeEJ8wdL3s"
      },
      "source": [
        "3. Con el diccionario construya un data frame de pandas llamado df con los nombres de columnas \"X\", \"Y\", \"Tiempo\"  https://pandas.pydata.org/docs/reference/api/pandas.DataFrame.from_dict.html. Defina 1000 regitros para el intervalo de tiempo elegido.\n",
        " "
      ]
    },
    {
      "cell_type": "code",
      "metadata": {
        "id": "itaQwXzYdNjG"
      },
      "source": [
        "df = pd.DataFrame.from_dict(mov)"
      ],
      "execution_count": 20,
      "outputs": []
    },
    {
      "cell_type": "markdown",
      "metadata": {
        "id": "h2SAfX0pdqze"
      },
      "source": [
        "**4.** Realice un gráfico de x como función del tiempo, de y como función del tiempo y la trayectoria de la partícula (df[\"X\"], df[\"tiempo\"], df[\"Y\"]).\n",
        " "
      ]
    },
    {
      "cell_type": "code",
      "metadata": {
        "colab": {
          "base_uri": "https://localhost:8080/",
          "height": 377
        },
        "id": "qn-5HkWj2tkn",
        "outputId": "5da626aa-c66a-4d9d-f326-9c6ff066e04b"
      },
      "source": [
        "#Datso para el gráfico de x e y como función del tiempo \n",
        "plt.figure(figsize=(10,5.5))\n",
        "plt.subplot(121)\n",
        "plt.plot(df[\"Tiempo\"], df[\"X\"], label=\"pos_x\") \n",
        "plt.plot(df[\"Tiempo\"], df[\"Y\"], label=\"pos_y\")\n",
        "plt.xlabel(\"Tiempo t(s)\")\n",
        "plt.ylabel(\"Posicion (m)\")\n",
        "plt.legend()\n",
        "plt.title(\"Theta = \" + str(\"%.3lf\"%theta))\n",
        "plt.grid()"
      ],
      "execution_count": 21,
      "outputs": [
        {
          "output_type": "display_data",
          "data": {
            "image/png": "[encoded data removed]",
            "text/plain": [
              "<Figure size 720x396 with 1 Axes>"
            ]
          },
          "metadata": {
            "needs_background": "light"
          }
        }
      ]
    },
    {
      "cell_type": "code",
      "metadata": {
        "id": "5zJj3TG2paZY",
        "colab": {
          "base_uri": "https://localhost:8080/",
          "height": 377
        },
        "outputId": "82ea872b-9784-4bee-cfd9-a00e8d5b4619"
      },
      "source": [
        "#Gráfico de la trayectoria de la partícula\n",
        "plt.figure(figsize=(10,5.5))\n",
        "plt.subplot(122)\n",
        "plt.plot(df[\"X\"], df[\"Y\"], label=\"Trayectoria\") \n",
        "plt.xlabel(\"x(m)\")\n",
        "plt.ylabel(\"y(m)\")\n",
        "plt.legend()\n",
        "plt.title(\"Theta = \" + str(\"%.3lf\"%theta))\n",
        "plt.grid()\n",
        "plt.show()"
      ],
      "execution_count": 22,
      "outputs": [
        {
          "output_type": "display_data",
          "data": {
            "image/png": "[encoded data removed]",
            "text/plain": [
              "<Figure size 720x396 with 1 Axes>"
            ]
          },
          "metadata": {
            "needs_background": "light"
          }
        }
      ]
    },
    {
      "cell_type": "markdown",
      "metadata": {
        "id": "ikhg4AZG6PGx"
      },
      "source": [
        "5. Determine el alcance máximo de la partícula, para ello tome  la solucion teórica con $y=0$, solucione numéricamente la ecuación para t y remplace este valor en la ecuación para x. Resuelvalo para $\\theta=45^{o}$."
      ]
    },
    {
      "cell_type": "markdown",
      "metadata": {
        "id": "yy0IRLca8_uw"
      },
      "source": [
        "\n",
        "Posicion en y \n",
        "\\begin{equation}\n",
        "y= \\frac{1}{b}\\left(\\frac{g}{b}+v_0 \\sin \\theta_0 -u\\sin\\alpha \\right)(1-\\mathrm{exp}(-bt))-\\left( \\frac{g}{b}-u\\sin\\alpha\\right)t\n",
        "\\end{equation}\n"
      ]
    },
    {
      "cell_type": "code",
      "metadata": {
        "id": "eyv6MewM8LHV"
      },
      "source": [
        "#Datos \n",
        "v0 = 60                    #Velocidad inicial de la partécula en m/s     \n",
        "alpha = np.pi              #Ángulo del viento                            \n",
        "\n",
        "theta = np.deg2rad(45)     #Ángulo de lanzamiento de la partícula       \n",
        "\n",
        "u = v0/2                   #Rapidez del viento                           \n",
        "b = 0.05                   #Parámetro de fricción                        \n",
        "g = 9.8                    #Aceleración de la gravedad m/s2              "
      ],
      "execution_count": 24,
      "outputs": []
    },
    {
      "cell_type": "code",
      "metadata": {
        "id": "_fMurt986Y0_"
      },
      "source": [
        "def pos_y(t, theta, alpha, v0, b, u, g):\n",
        "\n",
        "  T1 = (1./b)*(g/b + v0*np.sin(theta) - u*np.sin(alpha) )   # término 1\n",
        "  T2 = (1 - np.e**(- b * t))            # término 2\n",
        "  T3 = (g / b - u *  np.sin(alpha))*t   # término 3\n",
        "\n",
        "  return T1*T2 - T3"
      ],
      "execution_count": 25,
      "outputs": []
    },
    {
      "cell_type": "code",
      "metadata": {
        "id": "P-3YpnYf_InF"
      },
      "source": [
        "#Tiempo en el que la partícula vuelve al piso\n",
        "tf = optimize.newton(pos_y, 10, args=(theta, alpha, v0, b, u,g))  "
      ],
      "execution_count": 26,
      "outputs": []
    },
    {
      "cell_type": "code",
      "metadata": {
        "colab": {
          "base_uri": "https://localhost:8080/"
        },
        "id": "UCIsM1n9KA_0",
        "outputId": "6e552990-50fc-4d7d-ff36-726cd7827f2a"
      },
      "source": [
        "pos_y(tf, theta, alpha, v0, b, u, g)"
      ],
      "execution_count": 27,
      "outputs": [
        {
          "output_type": "execute_result",
          "data": {
            "text/plain": [
              "4.547473508864641e-13"
            ]
          },
          "metadata": {},
          "execution_count": 27
        }
      ]
    },
    {
      "cell_type": "markdown",
      "metadata": {
        "id": "Ljqy1-ooExPT"
      },
      "source": [
        "Con las raíces de la función se obtiene el tiempo para el que la partícula llega al suelo . Se evalúa este valor en x y se obtiene el alcance máximo sobre el eje "
      ]
    },
    {
      "cell_type": "code",
      "metadata": {
        "colab": {
          "base_uri": "https://localhost:8080/"
        },
        "id": "HNjo77ExJKTR",
        "outputId": "9067cad3-f775-4acb-f0eb-f836624dfd08"
      },
      "source": [
        "#Alcance máximo sobre el eje x\n",
        "pos_x(tf, theta, alpha, v0, b, u, g)   "
      ],
      "execution_count": 28,
      "outputs": [
        {
          "output_type": "execute_result",
          "data": {
            "text/plain": [
              "239.60614945520706"
            ]
          },
          "metadata": {},
          "execution_count": 28
        }
      ]
    },
    {
      "cell_type": "markdown",
      "metadata": {
        "id": "82fwRXa3F6_m"
      },
      "source": [
        "6. Construya una  grafica del alcance máximo R como función de $\\theta$, varie $\\theta$  entre 10 y 80 grados cada 5 grados.\n",
        "\n",
        "---\n",
        "\n"
      ]
    },
    {
      "cell_type": "code",
      "metadata": {
        "colab": {
          "base_uri": "https://localhost:8080/",
          "height": 567
        },
        "id": "QVgbvb6bOoRN",
        "outputId": "e221f289-4f53-4f93-d71f-44172cd47d42"
      },
      "source": [
        "# Arreglo de alcances máximos\n",
        "th1 = np.arange(10, 80+5, 5)\n",
        "th = np.radians(th1)\n",
        "am = np.zeros(len(th))        \n",
        "\n",
        "for i in range(th.size):\n",
        "  # Tiempo en el que la partícula llega al suelo\n",
        "  tam = optimize.newton(pos_y, 10, args=(th[i], alpha, v0, b, u,g))\n",
        "  # Alcance máximo para theta[i]\n",
        "  am[i] = pos_x(tam, th[i], alpha, v0, b, u, g)     \n",
        "\n",
        "#Datos gráfica del alcance máximo como función de theta\n",
        "plt.figure(figsize=(12,9))\n",
        "plt.plot(th1, am, 'o-')\n",
        "plt.title('Alcance máximo vs Theta')\n",
        "plt.xlabel('Theta [°]')\n",
        "plt.ylabel('Alcance máximo R [m]')\n",
        "plt.xticks(th1)\n",
        "plt.grid()"
      ],
      "execution_count": 37,
      "outputs": [
        {
          "output_type": "display_data",
          "data": {
            "image/png": "[encoded data removed]",
            "text/plain": [
              "<Figure size 864x648 with 1 Axes>"
            ]
          },
          "metadata": {
            "needs_background": "light"
          }
        }
      ]
    },
    {
      "cell_type": "markdown",
      "metadata": {
        "id": "ploZG0RHVXfL"
      },
      "source": [
        "7. Realice una interpolacion de R como función de theta."
      ]
    },
    {
      "cell_type": "code",
      "metadata": {
        "id": "IfJQ9z6QVHC-"
      },
      "source": [
        "#Librería\n",
        "from scipy.interpolate import lagrange\n",
        "\n",
        "\n",
        "AM = lagrange(th1,am)  "
      ],
      "execution_count": 30,
      "outputs": []
    },
    {
      "cell_type": "code",
      "metadata": {
        "colab": {
          "base_uri": "https://localhost:8080/"
        },
        "id": "O3bATPlvWJB7",
        "outputId": "b8dd70cc-d231-479d-b18c-371ad074caae"
      },
      "source": [
        "AM"
      ],
      "execution_count": 31,
      "outputs": [
        {
          "output_type": "execute_result",
          "data": {
            "text/plain": [
              "poly1d([ 5.21944577e-28, -4.06741855e-25,  1.45646938e-22, -3.07760094e-20,\n",
              "        3.85279342e-18, -1.64056943e-16, -4.08228674e-14,  9.85550655e-12,\n",
              "       -9.44003576e-10, -2.36236738e-08,  2.17833578e-05, -1.79060077e-03,\n",
              "       -1.25602464e-01,  1.28228277e+01, -1.13479959e-06])"
            ]
          },
          "metadata": {},
          "execution_count": 31
        }
      ]
    },
    {
      "cell_type": "code",
      "metadata": {
        "colab": {
          "base_uri": "https://localhost:8080/",
          "height": 567
        },
        "id": "k3frh6oJWYs3",
        "outputId": "6ea73493-74cf-4311-fa01-9280a46761ea"
      },
      "source": [
        "#Datos gráfico interpolación\n",
        "plt.figure(figsize=(12,9))\n",
        "plt.plot(th1,AM(th1))\n",
        "plt.title('Interpolación Alcance máximo vs Theta')\n",
        "plt.xlabel('Theta [°]')\n",
        "plt.ylabel('Alcance máximo R [m]')\n",
        "plt.xticks(th1)\n",
        "plt.grid()"
      ],
      "execution_count": 32,
      "outputs": [
        {
          "output_type": "display_data",
          "data": {
            "image/png": "[encoded data removed]",
            "text/plain": [
              "<Figure size 864x648 with 1 Axes>"
            ]
          },
          "metadata": {
            "needs_background": "light"
          }
        }
      ]
    }
  ]
}