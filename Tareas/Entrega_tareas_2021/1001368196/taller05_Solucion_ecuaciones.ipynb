{
  "nbformat": 4,
  "nbformat_minor": 0,
  "metadata": {
    "colab": {
      "name": "taller05_Solucion_ecuaciones",
      "provenance": []
    },
    "kernelspec": {
      "name": "python3",
      "display_name": "Python 3"
    },
    "language_info": {
      "name": "python"
    }
  },
  "cells": [
    {
      "cell_type": "markdown",
      "metadata": {
        "id": "pQSt9-mvLVMa"
      },
      "source": [
        "# Taller Resolver los siguientes problemas, por el metodo de la biseccion, Punto fijo, newton, secante, etc.\n",
        "\n",
        "1. *Encontrar* los ceros de $e^{x}-2= \\cos(e^x-2)$\n",
        "\n",
        "2. Una particula parte del reposo sobre un plano inclinado uniforme, cuyo ángulo \n",
        "$\\theta$ cambia con una rapidez constante de : \n",
        "\n",
        "\\begin{equation}\n",
        "\\frac{\\mathrm{d}\\theta}{\\mathrm{d} t} = \\omega < 0\n",
        "\\end{equation}\n",
        "\n",
        "Al final de t segundos, la posición del objeto esta dada por: \n",
        "\n",
        "\n",
        "\\begin{equation}\n",
        "x(t) = -\\frac{g}{2\\omega^2} \\left( \\frac{e^{\\omega t}-e^{-\\omega t}}{2}\\right) -\\sin\\omega t\n",
        "\\end{equation}\n",
        "\n",
        "\n",
        "Suponga que la partícula se desplazo 0.51m en 1s. Encuentre, con una exactitud de $10^{-5}$, la rapidez $\\omega$ con que $\\theta$ cambia. Suponga que $g=9.76m/s$\n",
        "\n",
        "\n",
        "![Plano Inclinado](https://raw.githubusercontent.com/hernansalinas/Metodos_Computacionales_taller/main/sesiones/images/ecuacion_1_variable/Fig0.png)\n",
        "\n",
        "\n",
        "\n",
        "\n",
        "3. Un reservorio de longitud L tiene una seccion transveral en forma de semicirculo con radio r.\n",
        "\n",
        "\\begin{equation}\n",
        "V=L \\left ( \\frac{1}{2}\\pi r^2 -r^2 \\arcsin{\\frac{h}{r}}-h(r^2-h^2) ^{1/2} \\right)\n",
        "\\end{equation}\n",
        "\n",
        "Determinar la profundidad del agua para L=10pies, r=1pies, V=12.4pies\n",
        "\n",
        "\n",
        "![Reservorio](https://raw.githubusercontent.com/hernansalinas/Metodos_Computacionales_taller/main/sesiones/images/ecuacion_1_variable/Fig1.png)\n",
        "\n",
        "\n",
        "\n",
        "4.Resolver la siguiente situación\n",
        "\n",
        "En el diseño de los vehiculos para todo tipo de terreno,  es necesario tener encuentra fallas cuando se trata de liberar dos tipos de obstáculos. Una es la falla por rozamiento, y ocurre cuando el vehiculo \n",
        "intenta cruzar un obstáculo que hace que su fondo toque el suelo. La otra recibie el nombre de falla por colision de la defensa delantera y ocurre cuando el vehiculo desciende por una zanja y la defensa delantera toca el suelo.\n",
        "\n",
        "\n",
        "\n",
        "La figura muestra las componentes asociados al segundo tipo  de falla. En ella se indeca el ángulo máximo $\\alpha$ que puede alcanzar un vehiculo cuando $\\beta$ es el angulo maximo en que no ocurre la falla \n",
        "por rozamiento y satisface la siguiente ecuación: \n",
        "\n",
        "\n",
        "\\begin{equation}\n",
        "A \\sin(\\alpha) \\cos(\\alpha)+B \\sin^2(\\alpha) - C \\cos(\\alpha) -  E  \\sin(\\alpha)=0\n",
        "\\end{equation}\n",
        "\n",
        "donde; \n",
        "\\begin{equation}\n",
        "A = l \\sin(\\beta)\n",
        "\\end{equation}\n",
        "\n",
        "\\begin{equation}\n",
        "B = l \\cos(\\beta)\n",
        "\\end{equation}\n",
        "\\begin{equation}\n",
        "C = (h + 0.5 D )\\sin(\\beta) - 0.5 D \\tan(\\beta)\n",
        "\\end{equation}\n",
        "\n",
        "\\begin{equation}\n",
        "E = (h + 0.5 D ) \\cos(\\beta) - 0.5 * D\n",
        "\\end{equation}\n",
        "\n",
        "\n",
        "Para $l=89$pulg, $h=49$pul, $D=55$, $\\beta=11.5$ , el angulo se aproximara a 33. Verificar este resultados\n",
        "\n",
        "\n",
        "![fallas_vehiculo](https://raw.githubusercontent.com/hernansalinas/Metodos_Computacionales_taller/main/sesiones/images/ecuacion_1_variable/Fig2.png)\n",
        "\n",
        "Referencias: Numerical Analysis Book by J. Douglas Faires and Richard L. Burden\n",
        "\n",
        "\n"
      ]
    },
    {
      "cell_type": "markdown",
      "metadata": {
        "id": "y3x0T5mzKE59"
      },
      "source": [
        "# Solucion \n",
        "\n",
        "1. *Encontrar* los ceros de $e^{x}-2= \\cos(e^x-2)$\n",
        "\n",
        "\\begin{equation}\n",
        "f(x) = e^{x} - 2 - \\cos(e^x-2) \n",
        "\\end{equation}"
      ]
    },
    {
      "cell_type": "code",
      "metadata": {
        "id": "_5P1rf_fKlLF"
      },
      "source": [
        "#librerias \n",
        "import numpy as np\n",
        "import scipy as sp \n",
        "from scipy import optimize\n",
        "import matplotlib.pylab as plt\n",
        "import math"
      ],
      "execution_count": null,
      "outputs": []
    },
    {
      "cell_type": "code",
      "metadata": {
        "id": "rAHMcadgKv0n"
      },
      "source": [
        "g = lambda x: np.exp(x)-2\n",
        "h = lambda x: np.cos( np.exp(x)-2)\n",
        "f = lambda x: g(x) - h(x) #Función a la cual se le encuentra el cero"
      ],
      "execution_count": null,
      "outputs": []
    },
    {
      "cell_type": "code",
      "metadata": {
        "id": "CzGPJJvTKvyd"
      },
      "source": [
        "x = np.linspace(-2, 2, 100) "
      ],
      "execution_count": null,
      "outputs": []
    },
    {
      "cell_type": "code",
      "metadata": {
        "colab": {
          "base_uri": "https://localhost:8080/",
          "height": 282
        },
        "id": "QPqPZzcLKvxd",
        "outputId": "752bb431-7cdf-403d-c45b-dc7b36973b4c"
      },
      "source": [
        "#Utilizamos el grafico para ver donde la funcion f(x) se hace cero, y para ver que valores de a,b se pueden utilizar\n",
        "plt.plot(x, g(x), label=\"g(x)\")\n",
        "plt.plot(x, h(x), label=\"h(x)\")\n",
        "plt.plot(x, h(x)-g(x), label=\"f(x)\")\n",
        "plt.grid()\n",
        "plt.legend()"
      ],
      "execution_count": null,
      "outputs": [
        {
          "output_type": "execute_result",
          "data": {
            "text/plain": [
              "<matplotlib.legend.Legend at 0x7f616bb71890>"
            ]
          },
          "metadata": {
            "tags": []
          },
          "execution_count": 20
        },
        {
          "output_type": "display_data",
          "data": {
            "image/png": "[encoded data removed]",
            "text/plain": [
              "<Figure size 432x288 with 1 Axes>"
            ]
          },
          "metadata": {
            "tags": [],
            "needs_background": "light"
          }
        }
      ]
    },
    {
      "cell_type": "code",
      "metadata": {
        "colab": {
          "base_uri": "https://localhost:8080/"
        },
        "id": "nJWKDSosKvwY",
        "outputId": "7506af47-9a34-4c25-ae4a-f1539b5e0c21"
      },
      "source": [
        "#Comando de scipy que me ayuda a calcular la raiz de una funcion por el metodo de bisección\n",
        "root = optimize.bisect(f, 1, 4)\n",
        "print({root})"
      ],
      "execution_count": null,
      "outputs": [
        {
          "output_type": "stream",
          "text": [
            "{1.007623971657722}\n"
          ],
          "name": "stdout"
        }
      ]
    },
    {
      "cell_type": "code",
      "metadata": {
        "colab": {
          "base_uri": "https://localhost:8080/"
        },
        "id": "NcsOmdLzKvpB",
        "outputId": "4e209091-b4f4-4d0b-fba9-8a5e7223404b"
      },
      "source": [
        "# Metodo Newton Rapshod\n",
        "#Comando de scipy que me ayuda a calcular la raiz de una funcion por el metodo de Newton Rapshod\n",
        "root2 = optimize.newton(f, -2)  #El punto que se toma en este metodo no puede estar muy alejado del cero.\n",
        "print({root})\n"
      ],
      "execution_count": null,
      "outputs": [
        {
          "output_type": "stream",
          "text": [
            "{1.007623971657722}\n"
          ],
          "name": "stdout"
        }
      ]
    },
    {
      "cell_type": "code",
      "metadata": {
        "colab": {
          "base_uri": "https://localhost:8080/"
        },
        "id": "lKdj1fqYKvma",
        "outputId": "8ca41b1a-9b6c-4e41-8cd1-d19ffe76cdd6"
      },
      "source": [
        "root-root2  # Analiza la precisión "
      ],
      "execution_count": null,
      "outputs": [
        {
          "output_type": "execute_result",
          "data": {
            "text/plain": [
              "3.007923971657722"
            ]
          },
          "metadata": {
            "tags": []
          },
          "execution_count": 23
        }
      ]
    },
    {
      "cell_type": "markdown",
      "metadata": {
        "id": "Nrwa1fuFUv0U"
      },
      "source": [
        "Punto 2.\n",
        "\n",
        "\\begin{equation}\n",
        "x(t) = -\\frac{g}{2\\omega^2} \\left( \\frac{e^{\\omega t}-e^{-\\omega t}}{2}\\right) -\\sin\\omega t\n",
        "\\end{equation}\n",
        "\n",
        "\\begin{equation}\n",
        "f(\\omega,t ) = 2\\omega^2(x(t)+\\sin \\omega t )\n",
        "\\end{equation}\n",
        "\n",
        "\n",
        "\\begin{equation}\n",
        "g(\\omega,t ) = -g\\left( \\frac{e^{\\omega t}-e^{-\\omega t}}{2}\\right) \n",
        "\\end{equation}\n",
        "\n"
      ]
    },
    {
      "cell_type": "code",
      "metadata": {
        "id": "XwtdJaocRlc1"
      },
      "source": [
        "f = lambda omega : 2*omega**2 * (0.51+np.sin(omega))  # Definicion de la fucion f(w,t)\n",
        "g = lambda omega : -9.76* 0.5*(np.exp(omega)-np.exp(-omega)) # Definicion de la fucion g(w,t)\n",
        "\n",
        "h = lambda omega : f(omega)-g(omega) # Función x(t) a la cual le encontraremos las raices\n",
        "omega = np.linspace(-2*np.pi, 2*np.pi) \n"
      ],
      "execution_count": null,
      "outputs": []
    },
    {
      "cell_type": "code",
      "metadata": {
        "colab": {
          "base_uri": "https://localhost:8080/",
          "height": 265
        },
        "id": "UThuzrWHWKi-",
        "outputId": "d80339b0-775a-40ca-84a0-c25a54ed1c41"
      },
      "source": [
        "plt.figure()\n",
        "plt.plot(omega, h(omega) )\n",
        "plt.grid()"
      ],
      "execution_count": null,
      "outputs": [
        {
          "output_type": "display_data",
          "data": {
            "image/png": "[encoded data removed]",
            "text/plain": [
              "<Figure size 432x288 with 1 Axes>"
            ]
          },
          "metadata": {
            "tags": [],
            "needs_background": "light"
          }
        }
      ]
    },
    {
      "cell_type": "code",
      "metadata": {
        "colab": {
          "base_uri": "https://localhost:8080/"
        },
        "id": "KOeiVPDiWlQl",
        "outputId": "cc024d50-b43b-4920-d52f-65af31ca443d"
      },
      "source": [
        "# Comando de scipy que me ayuda a calcular la raiz de una funcion por el metodo de Newton Rapshod\n",
        "root = optimize.newton(h, 2)\n",
        "print({root})"
      ],
      "execution_count": null,
      "outputs": [
        {
          "output_type": "stream",
          "text": [
            "{6.113797822835222e-17}\n"
          ],
          "name": "stdout"
        }
      ]
    },
    {
      "cell_type": "markdown",
      "metadata": {
        "id": "EU6i53Pw8aDi"
      },
      "source": [
        "Punto 3.\n",
        "\n",
        "\\begin{equation}\n",
        "V=L \\left ( \\frac{1}{2}\\pi r^2 -r^2 \\arcsin{\\frac{h}{r}}-h(r^2-h^2) ^{1/2} \\right)\n",
        "\\end{equation}\n",
        "\n",
        "Determinar la profundidad del agua para L=10pies, r=1pies, V=12.4pies\n",
        "\n",
        "\\begin{equation}\n",
        "k(h) = V - L \\left ( \\frac{1}{2}\\pi r^2 -r^2 \\arcsin{\\frac{h}{r}}-h(r^2-h^2) ^{1/2} \\right)= 0\n",
        "\\end{equation}\n",
        "\n",
        "\\begin{equation}\n",
        "f(h) =  V\n",
        "\\end{equation}\n",
        "\n",
        "\\begin{equation}\n",
        "g(h) = L \\left ( \\frac{1}{2}\\pi r^2 -r^2 \\arcsin{\\frac{h}{r}}-h(r^2-h^2) ^{1/2} \\right)= 0\n",
        "\\end{equation} \n",
        "\n",
        "\n",
        "\n"
      ]
    },
    {
      "cell_type": "code",
      "metadata": {
        "id": "V_NfzPQM8yGn"
      },
      "source": [
        "f = lambda h: 12.4  # Definición de la función f(x)\n",
        "g = lambda h:  10*((0.5*np.pi*1)-(1*np.arcsin(h))-h*(1-(h**2))**0.5) # Definición de la función g(x)\n",
        "k = lambda h: f(h) - g(h) # Función a la cual se le encuentra el cero\n",
        "h = np.linspace(0, 1,50) # Rango de la función.  "
      ],
      "execution_count": null,
      "outputs": []
    },
    {
      "cell_type": "code",
      "metadata": {
        "colab": {
          "base_uri": "https://localhost:8080/",
          "height": 265
        },
        "id": "TuIoqMzZa3qg",
        "outputId": "abfe8577-fb9a-4ec8-fd3d-70137c7ae925"
      },
      "source": [
        "# Gráfico\n",
        "plt.figure()\n",
        "plt.plot(h, k(h) )\n",
        "plt.grid()"
      ],
      "execution_count": null,
      "outputs": [
        {
          "output_type": "display_data",
          "data": {
            "image/png": "[encoded data removed]",
            "text/plain": [
              "<Figure size 432x288 with 1 Axes>"
            ]
          },
          "metadata": {
            "tags": [],
            "needs_background": "light"
          }
        }
      ]
    },
    {
      "cell_type": "code",
      "metadata": {
        "colab": {
          "base_uri": "https://localhost:8080/"
        },
        "id": "_ttM0F9Al5Q4",
        "outputId": "04288c7e-b7c4-46e0-f831-8e952cd1737b"
      },
      "source": [
        "# Comando de scipy que ayuda a calcular la raiz de una función por el método de Newton Rapshod\n",
        "root = optimize.newton(k, 0.4)\n",
        "print({root})"
      ],
      "execution_count": null,
      "outputs": [
        {
          "output_type": "stream",
          "text": [
            "{0.16616603465836813}\n"
          ],
          "name": "stdout"
        }
      ]
    },
    {
      "cell_type": "code",
      "metadata": {
        "colab": {
          "base_uri": "https://localhost:8080/"
        },
        "id": "TEOeGEIWmH1S",
        "outputId": "1f7374d5-cd2c-4c6e-9205-1a395356d0cd"
      },
      "source": [
        "#Comando de scipy que ayuda a calcular la raiz de una función por el método de bisección\n",
        "root = optimize.bisect(k, 0.1, 0.4)\n",
        "print({root})"
      ],
      "execution_count": null,
      "outputs": [
        {
          "output_type": "stream",
          "text": [
            "{0.16616603465918162}\n"
          ],
          "name": "stdout"
        }
      ]
    },
    {
      "cell_type": "code",
      "metadata": {
        "colab": {
          "base_uri": "https://localhost:8080/"
        },
        "id": "bM6ywiEgsuPf",
        "outputId": "68b6be58-8b73-489a-f679-3bd3ac09e848"
      },
      "source": [
        "# Profundidad del agua r-h\n",
        "p = 1- 0.16616603465836813\n",
        "print(p)"
      ],
      "execution_count": null,
      "outputs": [
        {
          "output_type": "stream",
          "text": [
            "0.8338339653416319\n"
          ],
          "name": "stdout"
        }
      ]
    },
    {
      "cell_type": "markdown",
      "metadata": {
        "id": "k3o6jrfNupA_"
      },
      "source": [
        "Punto 4.\n",
        "\n",
        "\n",
        "\\begin{equation}\n",
        "A \\sin(\\alpha) \\cos(\\alpha)+B \\sin^2(\\alpha) - C \\cos(\\alpha) -  E  \\sin(\\alpha)=0\n",
        "\\end{equation}\n",
        "\n",
        "donde; \n",
        "\\begin{equation}\n",
        "A = l \\sin(\\beta)\n",
        "\\end{equation}\n",
        "\n",
        "\\begin{equation}\n",
        "B = l \\cos(\\beta)\n",
        "\\end{equation}\n",
        "\\begin{equation}\n",
        "C = (h + 0.5 D )\\sin(\\beta) - 0.5 D \\tan(\\beta)\n",
        "\\end{equation}\n",
        "\n",
        "\\begin{equation}\n",
        "E = (h + 0.5 D ) \\cos(\\beta) - 0.5 * D\n",
        "\\end{equation}\n",
        "\n",
        "\n",
        "Para $l=89$pulg, $h=49$pul, $D=55$, $\\beta=11.5$ , el angulo se aproximara a 33. Verificar este resultados"
      ]
    },
    {
      "cell_type": "code",
      "metadata": {
        "id": "AVylSoi0vBf-"
      },
      "source": [
        "# Datos\n",
        "L=89\n",
        "h=49\n",
        "D=55\n",
        "BT=np.deg2rad(11.5) \n"
      ],
      "execution_count": null,
      "outputs": []
    },
    {
      "cell_type": "code",
      "metadata": {
        "colab": {
          "base_uri": "https://localhost:8080/"
        },
        "id": "Sk1KwLEyx9Dn",
        "outputId": "6e7ed687-37cf-4515-ff5e-73e13046b968"
      },
      "source": [
        "# Cálculo de A\n",
        "A = L*np.sin(BT)\n",
        "print(A)"
      ],
      "execution_count": null,
      "outputs": [
        {
          "output_type": "stream",
          "text": [
            "17.74374616313055\n"
          ],
          "name": "stdout"
        }
      ]
    },
    {
      "cell_type": "code",
      "metadata": {
        "colab": {
          "base_uri": "https://localhost:8080/"
        },
        "id": "bqwrC7ZBx7W_",
        "outputId": "77752591-2352-4228-c66b-8514f454e430"
      },
      "source": [
        "# Cálculo de B\n",
        "B = L*np.cos(BT)\n",
        "print(B)"
      ],
      "execution_count": null,
      "outputs": [
        {
          "output_type": "stream",
          "text": [
            "87.21329871125383\n"
          ],
          "name": "stdout"
        }
      ]
    },
    {
      "cell_type": "code",
      "metadata": {
        "colab": {
          "base_uri": "https://localhost:8080/"
        },
        "id": "DEVzbpZrzcX3",
        "outputId": "370142b4-63e8-4c8a-f730-5e43da305533"
      },
      "source": [
        "# Cálculo de C\n",
        "C = ((h + (0.5*D))*np.sin(BT)) - (0.5*D*np.tan(BT))\n",
        "print(C)\n"
      ],
      "execution_count": null,
      "outputs": [
        {
          "output_type": "stream",
          "text": [
            "9.656708748763851\n"
          ],
          "name": "stdout"
        }
      ]
    },
    {
      "cell_type": "code",
      "metadata": {
        "colab": {
          "base_uri": "https://localhost:8080/"
        },
        "id": "7zLo2TUh24BA",
        "outputId": "5d3cf7cb-223c-43aa-fb69-8a75c30b8e84"
      },
      "source": [
        "# Cálculo de E\n",
        "E = ((h + (0.5*D))*np.cos(BT) - (0.5*D))\n",
        "print(E)"
      ],
      "execution_count": null,
      "outputs": [
        {
          "output_type": "stream",
          "text": [
            "47.464239903493464\n"
          ],
          "name": "stdout"
        }
      ]
    },
    {
      "cell_type": "markdown",
      "metadata": {
        "id": "5StzSNqM6uZH"
      },
      "source": [
        "\n",
        "\n",
        "\\begin{equation}\n",
        "f(\\alpha) = (A \\sin(\\alpha) \\cos(\\alpha)+B \\sin^2(\\alpha) - C \\cos(\\alpha) -  E  \\sin(\\alpha)=0\n",
        "\\end{equation}"
      ]
    },
    {
      "cell_type": "code",
      "metadata": {
        "id": "8T0Ld6UH5XvH"
      },
      "source": [
        "f = lambda a:  A*np.sin(a)*np.cos(a) # Definición de la fución f(a)\n",
        "g = lambda a:  B*((np.sin(a)**2))    # Definición de la fución  g(a)\n",
        "h = lambda a:  C*np.cos(a)           # Definición de la fución  h(a)\n",
        "j = lambda a:  E*np.sin(a)           # Definición de la fución  j(a)\n",
        "k = lambda a: f(a) + g(a) - h(a)- j(a) # Función a la cual se le encuentra el cero\n",
        "a = np.linspace(0, 1,50) # Rango de la función.  "
      ],
      "execution_count": null,
      "outputs": []
    },
    {
      "cell_type": "code",
      "metadata": {
        "colab": {
          "base_uri": "https://localhost:8080/",
          "height": 265
        },
        "id": "0NlPAnNu9BKK",
        "outputId": "2c0056cb-6439-4f80-fb56-c009e9abb376"
      },
      "source": [
        "# Gráfico\n",
        "plt.figure()\n",
        "plt.plot(a, k(a) )\n",
        "plt.grid()"
      ],
      "execution_count": null,
      "outputs": [
        {
          "output_type": "display_data",
          "data": {
            "image/png": "[encoded data removed]",
            "text/plain": [
              "<Figure size 432x288 with 1 Axes>"
            ]
          },
          "metadata": {
            "tags": [],
            "needs_background": "light"
          }
        }
      ]
    },
    {
      "cell_type": "code",
      "metadata": {
        "colab": {
          "base_uri": "https://localhost:8080/"
        },
        "id": "TYX7XpZXAaj3",
        "outputId": "cf9ea246-8b33-48f7-e43e-e914eab150bd"
      },
      "source": [
        "# Comando de scipy que me ayuda a calcular la raiz de una función por el método de Newton Rapshod\n",
        "root = optimize.newton(k, 0.6)\n",
        "print({root})"
      ],
      "execution_count": null,
      "outputs": [
        {
          "output_type": "stream",
          "text": [
            "{0.5754730121944055}\n"
          ],
          "name": "stdout"
        }
      ]
    },
    {
      "cell_type": "code",
      "metadata": {
        "colab": {
          "base_uri": "https://localhost:8080/"
        },
        "id": "Hnp_WteIAvIp",
        "outputId": "9a532f61-0e38-4e5a-eb37-6ccdbe07ff0b"
      },
      "source": [
        "#Comando de scipy que me ayuda a calcular la raiz de una función por el método de bisección\n",
        "root = optimize.bisect(k, 0.4, 0.6)\n",
        "print({root})"
      ],
      "execution_count": null,
      "outputs": [
        {
          "output_type": "stream",
          "text": [
            "{0.5754730121945613}\n"
          ],
          "name": "stdout"
        }
      ]
    },
    {
      "cell_type": "code",
      "metadata": {
        "colab": {
          "base_uri": "https://localhost:8080/"
        },
        "id": "xYUHlCINCXF9",
        "outputId": "cd9c65ce-61fd-4556-fad2-0c30be7f7fc9"
      },
      "source": [
        "# Corvitiendo alpha a radianes\n",
        "(0.5754730121945613*180)/np.pi"
      ],
      "execution_count": null,
      "outputs": [
        {
          "output_type": "execute_result",
          "data": {
            "text/plain": [
              "32.97217482242892"
            ]
          },
          "metadata": {
            "tags": []
          },
          "execution_count": 133
        }
      ]
    },
    {
      "cell_type": "markdown",
      "metadata": {
        "id": "UvlcPwmcfUiz"
      },
      "source": [
        "\n",
        "\n",
        "\n",
        "5. Construir un fractal empleando el metodo de Newton-Raphson, \n",
        "(Reproducir código y entender)\n",
        "\\begin{equation}\n",
        "z_{n+1} = z_n -a \\frac{f(z)}{f'(z)} \n",
        "\\end{equation}\n",
        "\n",
        "\n",
        "\n",
        "\\begin{equation}\n",
        "f'(z) = \\frac{ f(z+h)+f(z) }{h}\n",
        "\\end{equation}"
      ]
    },
    {
      "cell_type": "code",
      "metadata": {
        "id": "I-2riPetfWrM"
      },
      "source": [
        "import numpy as np\n",
        "import matplotlib.pylab as plt\n",
        "from PIL import Image\n"
      ],
      "execution_count": null,
      "outputs": []
    },
    {
      "cell_type": "code",
      "metadata": {
        "id": "coo74WrCoVBh"
      },
      "source": [
        "Npx_X = 80 #Numero de pixeles en x\n",
        "Npx_Y = 80 #Numero de pixeles en y\n",
        "\n",
        "image = Image.new(\"RGB\", (Npx_X, Npx_Y)) #Creacion de la imagen inicial\n",
        "\n",
        "npx = np.arange(0, Npx_X)\n",
        "npy = np.arange(0, Npx_Y)\n",
        "\n",
        "xmin = -1\n",
        "xmax = 1\n",
        "ymin = -1\n",
        "ymax = 1\n",
        "#Transformación al plano complejo en un rectangulo (xmin, xmax), (ymin, ymax)\n",
        "zx = npx * (xmax - xmin) / (Npx_X - 1)   + xmin\n",
        "zy = npy * (ymax-ymin) / (Npx_Y - 1) + ymin\n"
      ],
      "execution_count": null,
      "outputs": []
    },
    {
      "cell_type": "code",
      "metadata": {
        "id": "wMsrzKovpVG7"
      },
      "source": [
        "#Definicion  la funcion y las derivada \n",
        "def f(z): \n",
        "  return z**3 - 1\n",
        "\n",
        "def fp(z): \n",
        "  return 3*z**2\n",
        "\n",
        "h = 1E-4\n",
        "def fpn(z, h): \n",
        "  return (f(z+h)-f(z))/h\n",
        "  \n"
      ],
      "execution_count": null,
      "outputs": []
    },
    {
      "cell_type": "code",
      "metadata": {
        "id": "pZC8_84kpVJ1"
      },
      "source": [
        "a = 0.2\n",
        "Niteraciones = 120\n",
        "eps = 1E-8\n",
        "\n",
        "x = - 1\n",
        "for zx_ in zx:\n",
        "  x = x + 1 \n",
        "  y = -1\n",
        "  for zy_ in zy: \n",
        "      y = y + 1\n",
        "      Z_0 = complex(zx_, zy_)\n",
        "    \n",
        "      for i in range(0, Niteraciones): \n",
        "        Z = Z_0 - a * f(Z_0)/fp(Z_0)\n",
        "\n",
        "        if( abs(Z-Z_0)<= eps):\n",
        "          break \n",
        "          \n",
        "        Z_0 = Z\n",
        "      #print(i)\n",
        "      #print(i)\n",
        "      r, g, b = i % 4 *64 , i % 8 *16, i% 16* 16\n",
        "      \n",
        "      image.putpixel((x,y), (r,g,b) )\n"
      ],
      "execution_count": null,
      "outputs": []
    },
    {
      "cell_type": "code",
      "metadata": {
        "id": "hfzvlcD6pVM0",
        "colab": {
          "base_uri": "https://localhost:8080/",
          "height": 285
        },
        "outputId": "4c03be04-26c0-40bb-c093-10b333a08cdc"
      },
      "source": [
        "plt.imshow(image)\n",
        "#plt.xlim(400, 600)\n",
        "#plt.ylim(400, 523)\n"
      ],
      "execution_count": null,
      "outputs": [
        {
          "output_type": "execute_result",
          "data": {
            "text/plain": [
              "<matplotlib.image.AxesImage at 0x7f616b570710>"
            ]
          },
          "metadata": {
            "tags": []
          },
          "execution_count": 88
        },
        {
          "output_type": "display_data",
          "data": {
            "image/png": "[encoded data removed]",
            "text/plain": [
              "<Figure size 432x288 with 1 Axes>"
            ]
          },
          "metadata": {
            "tags": [],
            "needs_background": "light"
          }
        }
      ]
    },
    {
      "cell_type": "code",
      "metadata": {
        "id": "yM2FXog2TXqV"
      },
      "source": [
        ""
      ],
      "execution_count": null,
      "outputs": []
    }
  ]
}